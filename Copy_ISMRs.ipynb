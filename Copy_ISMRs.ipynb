{
 "cells": [
  {
   "cell_type": "code",
   "execution_count": 1,
   "id": "13859f52-bd1d-4440-b022-17d928b1f47e",
   "metadata": {},
   "outputs": [],
   "source": [
    "import numpy as np\n",
    "import time"
   ]
  },
  {
   "cell_type": "code",
   "execution_count": null,
   "id": "fc7d7b3e-f3f9-406d-a4c0-e31838fffd1c",
   "metadata": {},
   "outputs": [
    {
     "name": "stdout",
     "output_type": "stream",
     "text": [
      "SEPT065H.22_.ismr\r"
     ]
    }
   ],
   "source": [
    "import os\n",
    "import shutil\n",
    "\n",
    "for n in np.arange(22021,22366):\n",
    "    sourcepath='/media/bhuvi/NavIC_GNSS_Data/GNSS/Old_Septentrio/2022/'+str(n)+'/'\n",
    "    sourcefiles = os.listdir(sourcepath)\n",
    "    destinationpath = '/media/bhuvi/Analysis/GNSS/2022/'+str(n)\n",
    "    for file in sourcefiles:\n",
    "        if file.endswith('.ismr'):\n",
    "            print(file,end='\\r')\n",
    "            time.sleep(0.02)\n",
    "            shutil.copy(os.path.join(sourcepath,file), os.path.join(destinationpath,file))"
   ]
  },
  {
   "cell_type": "code",
   "execution_count": null,
   "id": "47b59b11-1a6c-4b96-b030-00e00d0c6281",
   "metadata": {},
   "outputs": [],
   "source": []
  }
 ],
 "metadata": {
  "kernelspec": {
   "display_name": "Python 3 (ipykernel)",
   "language": "python",
   "name": "python3"
  },
  "language_info": {
   "codemirror_mode": {
    "name": "ipython",
    "version": 3
   },
   "file_extension": ".py",
   "mimetype": "text/x-python",
   "name": "python",
   "nbconvert_exporter": "python",
   "pygments_lexer": "ipython3",
   "version": "3.10.6"
  }
 },
 "nbformat": 4,
 "nbformat_minor": 5
}
